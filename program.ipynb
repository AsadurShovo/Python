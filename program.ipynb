{
 "cells": [
  {
   "cell_type": "code",
   "execution_count": 7,
   "source": [
    "name = input(\"enter your name: \")\r\n",
    "print(\"mela kosto \", name)"
   ],
   "outputs": [
    {
     "output_type": "stream",
     "name": "stdout",
     "text": [
      "mela kosto  :(\n"
     ]
    }
   ],
   "metadata": {}
  },
  {
   "cell_type": "code",
   "execution_count": 8,
   "source": [
    "import keyword\r\n",
    "keyword.kwlist"
   ],
   "outputs": [
    {
     "output_type": "execute_result",
     "data": {
      "text/plain": [
       "['False',\n",
       " 'None',\n",
       " 'True',\n",
       " '__peg_parser__',\n",
       " 'and',\n",
       " 'as',\n",
       " 'assert',\n",
       " 'async',\n",
       " 'await',\n",
       " 'break',\n",
       " 'class',\n",
       " 'continue',\n",
       " 'def',\n",
       " 'del',\n",
       " 'elif',\n",
       " 'else',\n",
       " 'except',\n",
       " 'finally',\n",
       " 'for',\n",
       " 'from',\n",
       " 'global',\n",
       " 'if',\n",
       " 'import',\n",
       " 'in',\n",
       " 'is',\n",
       " 'lambda',\n",
       " 'nonlocal',\n",
       " 'not',\n",
       " 'or',\n",
       " 'pass',\n",
       " 'raise',\n",
       " 'return',\n",
       " 'try',\n",
       " 'while',\n",
       " 'with',\n",
       " 'yield']"
      ]
     },
     "metadata": {},
     "execution_count": 8
    }
   ],
   "metadata": {}
  },
  {
   "cell_type": "code",
   "execution_count": 30,
   "source": [
    "## string\r\n",
    "name = 'shovo'\r\n",
    "type(name)\r\n",
    "name + '@'\r\n",
    "name * 10\r\n",
    "## name/'shovo'\r\n",
    "\r\n",
    "##string functions\r\n",
    "name.upper()\r\n",
    "name.lower()\r\n",
    "name. capitalize()\r\n",
    "name.count('h')\r\n",
    "name.split('v')\r\n",
    "name.replace('o' , 'F')"
   ],
   "outputs": [
    {
     "output_type": "execute_result",
     "data": {
      "text/plain": [
       "'shFvF'"
      ]
     },
     "metadata": {},
     "execution_count": 30
    }
   ],
   "metadata": {}
  },
  {
   "cell_type": "markdown",
   "source": [],
   "metadata": {}
  },
  {
   "cell_type": "code",
   "execution_count": 44,
   "source": [
    "##number\r\n",
    "# int\r\n",
    "age = 24\r\n",
    "type(age)\r\n",
    "##float\r\n",
    "weight = 86.5\r\n",
    "type(weight)\r\n",
    "##boolean\r\n",
    "is_married = False\r\n",
    "type(is_married)\r\n",
    "\r\n",
    "##complex\r\n",
    "com = 2+3j\r\n",
    "type(com)\r\n",
    "\r\n",
    "\r\n",
    "print(name.upper(), name.lower(), age, is_married)"
   ],
   "outputs": [
    {
     "output_type": "stream",
     "name": "stdout",
     "text": [
      "SHOVO shovo 24 False\n"
     ]
    }
   ],
   "metadata": {}
  },
  {
   "cell_type": "code",
   "execution_count": 41,
   "source": [
    "##type conversion\r\n"
   ],
   "outputs": [],
   "metadata": {}
  },
  {
   "cell_type": "code",
   "execution_count": null,
   "source": [],
   "outputs": [],
   "metadata": {}
  }
 ],
 "metadata": {
  "orig_nbformat": 4,
  "language_info": {
   "name": "python",
   "version": "3.9.7",
   "mimetype": "text/x-python",
   "codemirror_mode": {
    "name": "ipython",
    "version": 3
   },
   "pygments_lexer": "ipython3",
   "nbconvert_exporter": "python",
   "file_extension": ".py"
  },
  "kernelspec": {
   "name": "python3",
   "display_name": "Python 3.9.7 64-bit (windows store)"
  },
  "interpreter": {
   "hash": "f0a8ca1b1324573d7b9c7247f92177669f6f55c0b2d917412ca0894f2d26eb46"
  }
 },
 "nbformat": 4,
 "nbformat_minor": 2
}