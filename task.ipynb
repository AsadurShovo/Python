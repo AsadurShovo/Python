{
 "cells": [
  {
   "cell_type": "code",
   "execution_count": 17,
   "source": [
    "num1 = float(input(\"enter a number: \"))\r\n",
    "num2 = input(\"enter another number: \")\r\n",
    "PLUS = float(num1) + float(num2)\r\n",
    "MUNIS = float(num1) - float(num2)\r\n",
    "MULTI = float(num1) * float(num2)\r\n",
    "DIVIDE = float(num1) / float(num2)\r\n",
    "print(PLUS)\r\n",
    "\r\n",
    "\r\n",
    "\r\n",
    "\r\n",
    "\r\n",
    "\r\n"
   ],
   "outputs": [
    {
     "output_type": "stream",
     "name": "stdout",
     "text": [
      "3.0\n"
     ]
    }
   ],
   "metadata": {}
  },
  {
   "cell_type": "code",
   "execution_count": null,
   "source": [],
   "outputs": [],
   "metadata": {}
  }
 ],
 "metadata": {
  "orig_nbformat": 4,
  "language_info": {
   "name": "python",
   "version": "3.9.7",
   "mimetype": "text/x-python",
   "codemirror_mode": {
    "name": "ipython",
    "version": 3
   },
   "pygments_lexer": "ipython3",
   "nbconvert_exporter": "python",
   "file_extension": ".py"
  },
  "kernelspec": {
   "name": "python3",
   "display_name": "Python 3.9.7 64-bit (windows store)"
  },
  "interpreter": {
   "hash": "f0a8ca1b1324573d7b9c7247f92177669f6f55c0b2d917412ca0894f2d26eb46"
  }
 },
 "nbformat": 4,
 "nbformat_minor": 2
}